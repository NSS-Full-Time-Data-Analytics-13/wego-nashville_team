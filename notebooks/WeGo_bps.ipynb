{
 "cells": [
  {
   "cell_type": "code",
   "execution_count": 1,
   "id": "12f85982-ac4f-4bb3-8b2b-60f9b95a73d8",
   "metadata": {},
   "outputs": [],
   "source": [
    "import pandas as pd\n",
    "import seaborn as sns\n",
    "import matplotlib.pyplot as plt\n",
    "import numpy as np\n",
    "%matplotlib inline"
   ]
  },
  {
   "cell_type": "code",
   "execution_count": 2,
   "id": "32b3e504-b086-490a-a90a-543fdb8f27af",
   "metadata": {},
   "outputs": [
    {
     "data": {
      "text/html": [
       "<div>\n",
       "<style scoped>\n",
       "    .dataframe tbody tr th:only-of-type {\n",
       "        vertical-align: middle;\n",
       "    }\n",
       "\n",
       "    .dataframe tbody tr th {\n",
       "        vertical-align: top;\n",
       "    }\n",
       "\n",
       "    .dataframe thead th {\n",
       "        text-align: right;\n",
       "    }\n",
       "</style>\n",
       "<table border=\"1\" class=\"dataframe\">\n",
       "  <thead>\n",
       "    <tr style=\"text-align: right;\">\n",
       "      <th></th>\n",
       "      <th>CALENDAR_ID</th>\n",
       "      <th>SERVICE_ABBR</th>\n",
       "      <th>ADHERENCE_ID</th>\n",
       "      <th>DATE</th>\n",
       "      <th>ROUTE_ABBR</th>\n",
       "      <th>BLOCK_ABBR</th>\n",
       "      <th>OPERATOR</th>\n",
       "      <th>TRIP_ID</th>\n",
       "      <th>OVERLOAD_ID</th>\n",
       "      <th>ROUTE_DIRECTION_NAME</th>\n",
       "      <th>...</th>\n",
       "      <th>ACTUAL_HDWY</th>\n",
       "      <th>HDWY_DEV</th>\n",
       "      <th>ADJUSTED_EARLY_COUNT</th>\n",
       "      <th>ADJUSTED_LATE_COUNT</th>\n",
       "      <th>ADJUSTED_ONTIME_COUNT</th>\n",
       "      <th>STOP_CANCELLED</th>\n",
       "      <th>PREV_SCHED_STOP_CANCELLED</th>\n",
       "      <th>IS_RELIEF</th>\n",
       "      <th>DWELL_IN_MINS</th>\n",
       "      <th>SCHEDULED_LAYOVER_MINUTES</th>\n",
       "    </tr>\n",
       "  </thead>\n",
       "  <tbody>\n",
       "    <tr>\n",
       "      <th>0</th>\n",
       "      <td>120230801</td>\n",
       "      <td>1</td>\n",
       "      <td>99457890</td>\n",
       "      <td>2023-08-01</td>\n",
       "      <td>22</td>\n",
       "      <td>2200</td>\n",
       "      <td>1040</td>\n",
       "      <td>345104</td>\n",
       "      <td>0</td>\n",
       "      <td>TO DOWNTOWN</td>\n",
       "      <td>...</td>\n",
       "      <td>NaN</td>\n",
       "      <td>NaN</td>\n",
       "      <td>0</td>\n",
       "      <td>0</td>\n",
       "      <td>1</td>\n",
       "      <td>0</td>\n",
       "      <td>0.0</td>\n",
       "      <td>0</td>\n",
       "      <td>6.5</td>\n",
       "      <td>NaN</td>\n",
       "    </tr>\n",
       "  </tbody>\n",
       "</table>\n",
       "<p>1 rows × 30 columns</p>\n",
       "</div>"
      ],
      "text/plain": [
       "   CALENDAR_ID  SERVICE_ABBR  ADHERENCE_ID        DATE  ROUTE_ABBR  \\\n",
       "0    120230801             1      99457890  2023-08-01          22   \n",
       "\n",
       "   BLOCK_ABBR  OPERATOR  TRIP_ID  OVERLOAD_ID ROUTE_DIRECTION_NAME  ...  \\\n",
       "0        2200      1040   345104            0          TO DOWNTOWN  ...   \n",
       "\n",
       "  ACTUAL_HDWY  HDWY_DEV  ADJUSTED_EARLY_COUNT  ADJUSTED_LATE_COUNT  \\\n",
       "0         NaN       NaN                     0                    0   \n",
       "\n",
       "   ADJUSTED_ONTIME_COUNT STOP_CANCELLED PREV_SCHED_STOP_CANCELLED IS_RELIEF  \\\n",
       "0                      1              0                       0.0         0   \n",
       "\n",
       "   DWELL_IN_MINS  SCHEDULED_LAYOVER_MINUTES  \n",
       "0            6.5                        NaN  \n",
       "\n",
       "[1 rows x 30 columns]"
      ]
     },
     "execution_count": 2,
     "metadata": {},
     "output_type": "execute_result"
    }
   ],
   "source": [
    "wego = pd.read_csv(\"../data/headway Data, 8-1-2023 to 9-30-2023.csv\")\n",
    "\n",
    "wego.head(1)"
   ]
  },
  {
   "cell_type": "code",
   "execution_count": 3,
   "id": "6d86392a-ae02-4c49-9048-ce958bfd41a8",
   "metadata": {},
   "outputs": [
    {
     "data": {
      "text/plain": [
       "Index(['CALENDAR_ID', 'SERVICE_ABBR', 'ADHERENCE_ID', 'DATE', 'ROUTE_ABBR',\n",
       "       'BLOCK_ABBR', 'OPERATOR', 'TRIP_ID', 'OVERLOAD_ID',\n",
       "       'ROUTE_DIRECTION_NAME', 'TIME_POINT_ABBR', 'ROUTE_STOP_SEQUENCE',\n",
       "       'TRIP_EDGE', 'LATITUDE', 'LONGITUDE', 'SCHEDULED_TIME',\n",
       "       'ACTUAL_ARRIVAL_TIME', 'ACTUAL_DEPARTURE_TIME', 'ADHERENCE',\n",
       "       'SCHEDULED_HDWY', 'ACTUAL_HDWY', 'HDWY_DEV', 'ADJUSTED_EARLY_COUNT',\n",
       "       'ADJUSTED_LATE_COUNT', 'ADJUSTED_ONTIME_COUNT', 'STOP_CANCELLED',\n",
       "       'PREV_SCHED_STOP_CANCELLED', 'IS_RELIEF', 'DWELL_IN_MINS',\n",
       "       'SCHEDULED_LAYOVER_MINUTES'],\n",
       "      dtype='object')"
      ]
     },
     "execution_count": 3,
     "metadata": {},
     "output_type": "execute_result"
    }
   ],
   "source": [
    "wego.columns"
   ]
  },
  {
   "cell_type": "markdown",
   "id": "ddf32986-e8a9-4852-97ff-ffac6a139774",
   "metadata": {},
   "source": [
    "1. What is the overall on-time performance, and what do the overall distribution of adherence look like? "
   ]
  },
  {
   "cell_type": "code",
   "execution_count": 4,
   "id": "4c0abf32-064b-45f0-ad4f-e6f561bfb10f",
   "metadata": {},
   "outputs": [
    {
     "data": {
      "text/plain": [
       "(350329, 30)"
      ]
     },
     "execution_count": 4,
     "metadata": {},
     "output_type": "execute_result"
    }
   ],
   "source": [
    "wego.shape"
   ]
  },
  {
   "cell_type": "code",
   "execution_count": 5,
   "id": "5ea961fa-d3eb-4bcc-9a1b-30d280374f22",
   "metadata": {},
   "outputs": [
    {
     "name": "stdout",
     "output_type": "stream",
     "text": [
      "<class 'pandas.core.frame.DataFrame'>\n",
      "RangeIndex: 350329 entries, 0 to 350328\n",
      "Data columns (total 30 columns):\n",
      " #   Column                     Non-Null Count   Dtype  \n",
      "---  ------                     --------------   -----  \n",
      " 0   CALENDAR_ID                350329 non-null  int64  \n",
      " 1   SERVICE_ABBR               350329 non-null  int64  \n",
      " 2   ADHERENCE_ID               350329 non-null  int64  \n",
      " 3   DATE                       350329 non-null  object \n",
      " 4   ROUTE_ABBR                 350329 non-null  int64  \n",
      " 5   BLOCK_ABBR                 350329 non-null  int64  \n",
      " 6   OPERATOR                   350329 non-null  int64  \n",
      " 7   TRIP_ID                    350329 non-null  int64  \n",
      " 8   OVERLOAD_ID                350329 non-null  int64  \n",
      " 9   ROUTE_DIRECTION_NAME       350329 non-null  object \n",
      " 10  TIME_POINT_ABBR            350329 non-null  object \n",
      " 11  ROUTE_STOP_SEQUENCE        350318 non-null  float64\n",
      " 12  TRIP_EDGE                  350329 non-null  int64  \n",
      " 13  LATITUDE                   350329 non-null  float64\n",
      " 14  LONGITUDE                  350329 non-null  float64\n",
      " 15  SCHEDULED_TIME             350329 non-null  object \n",
      " 16  ACTUAL_ARRIVAL_TIME        338870 non-null  object \n",
      " 17  ACTUAL_DEPARTURE_TIME      338861 non-null  object \n",
      " 18  ADHERENCE                  338861 non-null  float64\n",
      " 19  SCHEDULED_HDWY             274738 non-null  float64\n",
      " 20  ACTUAL_HDWY                266062 non-null  float64\n",
      " 21  HDWY_DEV                   265893 non-null  float64\n",
      " 22  ADJUSTED_EARLY_COUNT       350329 non-null  int64  \n",
      " 23  ADJUSTED_LATE_COUNT        350329 non-null  int64  \n",
      " 24  ADJUSTED_ONTIME_COUNT      350329 non-null  int64  \n",
      " 25  STOP_CANCELLED             350329 non-null  int64  \n",
      " 26  PREV_SCHED_STOP_CANCELLED  280000 non-null  float64\n",
      " 27  IS_RELIEF                  350329 non-null  int64  \n",
      " 28  DWELL_IN_MINS              338858 non-null  float64\n",
      " 29  SCHEDULED_LAYOVER_MINUTES  53102 non-null   float64\n",
      "dtypes: float64(10), int64(14), object(6)\n",
      "memory usage: 80.2+ MB\n"
     ]
    }
   ],
   "source": [
    "wego.info()"
   ]
  },
  {
   "cell_type": "markdown",
   "id": "955e66f5-e7b2-462a-93ab-4416d6f03d78",
   "metadata": {},
   "source": [
    "1. What is the overall on-time performance, and what do the overall distribution of adherence look like?"
   ]
  },
  {
   "cell_type": "markdown",
   "id": "1a8a94d7-0f55-44bb-ac4e-040482a9ce3e",
   "metadata": {},
   "source": [
    "on-time is considered to be no more than 6 minutes lates and no more than one minute early"
   ]
  },
  {
   "cell_type": "code",
   "execution_count": 6,
   "id": "bef82396-62b7-4c45-9680-caf4dbccf741",
   "metadata": {},
   "outputs": [],
   "source": [
    "for ind, row in wego.iterrows(): \n",
    "    if row['ADHERENCE'] <= -6 :\n",
    "       wego.loc[ind, 'on_time_performance'] = 'on_time' \n",
    "    elif row['ADHERENCE'] <= 1:\n",
    "       wego.loc[ind, 'on_time_performance'] ='on_time'\n",
    "    elif row['ADHERENCE'] > -6 :\n",
    "       wego.loc[ind, 'on_time_performance'] ='late'\n",
    "    elif row['ADHERENCE'] > 1:\n",
    "       wego.loc[ind, 'on_time_performance'] ='late'\n",
    "   \n",
    "        "
   ]
  },
  {
   "cell_type": "code",
   "execution_count": 7,
   "id": "ec668fa9-f471-47da-bc43-bf58c1841d6a",
   "metadata": {},
   "outputs": [
    {
     "data": {
      "text/html": [
       "<div>\n",
       "<style scoped>\n",
       "    .dataframe tbody tr th:only-of-type {\n",
       "        vertical-align: middle;\n",
       "    }\n",
       "\n",
       "    .dataframe tbody tr th {\n",
       "        vertical-align: top;\n",
       "    }\n",
       "\n",
       "    .dataframe thead th {\n",
       "        text-align: right;\n",
       "    }\n",
       "</style>\n",
       "<table border=\"1\" class=\"dataframe\">\n",
       "  <thead>\n",
       "    <tr style=\"text-align: right;\">\n",
       "      <th></th>\n",
       "      <th>CALENDAR_ID</th>\n",
       "      <th>SERVICE_ABBR</th>\n",
       "      <th>ADHERENCE_ID</th>\n",
       "      <th>DATE</th>\n",
       "      <th>ROUTE_ABBR</th>\n",
       "      <th>BLOCK_ABBR</th>\n",
       "      <th>OPERATOR</th>\n",
       "      <th>TRIP_ID</th>\n",
       "      <th>OVERLOAD_ID</th>\n",
       "      <th>ROUTE_DIRECTION_NAME</th>\n",
       "      <th>...</th>\n",
       "      <th>HDWY_DEV</th>\n",
       "      <th>ADJUSTED_EARLY_COUNT</th>\n",
       "      <th>ADJUSTED_LATE_COUNT</th>\n",
       "      <th>ADJUSTED_ONTIME_COUNT</th>\n",
       "      <th>STOP_CANCELLED</th>\n",
       "      <th>PREV_SCHED_STOP_CANCELLED</th>\n",
       "      <th>IS_RELIEF</th>\n",
       "      <th>DWELL_IN_MINS</th>\n",
       "      <th>SCHEDULED_LAYOVER_MINUTES</th>\n",
       "      <th>on_time_performance</th>\n",
       "    </tr>\n",
       "  </thead>\n",
       "  <tbody>\n",
       "    <tr>\n",
       "      <th>0</th>\n",
       "      <td>120230801</td>\n",
       "      <td>1</td>\n",
       "      <td>99457890</td>\n",
       "      <td>2023-08-01</td>\n",
       "      <td>22</td>\n",
       "      <td>2200</td>\n",
       "      <td>1040</td>\n",
       "      <td>345104</td>\n",
       "      <td>0</td>\n",
       "      <td>TO DOWNTOWN</td>\n",
       "      <td>...</td>\n",
       "      <td>NaN</td>\n",
       "      <td>0</td>\n",
       "      <td>0</td>\n",
       "      <td>1</td>\n",
       "      <td>0</td>\n",
       "      <td>0.0</td>\n",
       "      <td>0</td>\n",
       "      <td>6.500000</td>\n",
       "      <td>NaN</td>\n",
       "      <td>on_time</td>\n",
       "    </tr>\n",
       "    <tr>\n",
       "      <th>1</th>\n",
       "      <td>120230801</td>\n",
       "      <td>1</td>\n",
       "      <td>99457891</td>\n",
       "      <td>2023-08-01</td>\n",
       "      <td>22</td>\n",
       "      <td>2200</td>\n",
       "      <td>1040</td>\n",
       "      <td>345104</td>\n",
       "      <td>0</td>\n",
       "      <td>TO DOWNTOWN</td>\n",
       "      <td>...</td>\n",
       "      <td>NaN</td>\n",
       "      <td>0</td>\n",
       "      <td>0</td>\n",
       "      <td>1</td>\n",
       "      <td>0</td>\n",
       "      <td>0.0</td>\n",
       "      <td>0</td>\n",
       "      <td>0.000000</td>\n",
       "      <td>NaN</td>\n",
       "      <td>on_time</td>\n",
       "    </tr>\n",
       "    <tr>\n",
       "      <th>2</th>\n",
       "      <td>120230801</td>\n",
       "      <td>1</td>\n",
       "      <td>99457892</td>\n",
       "      <td>2023-08-01</td>\n",
       "      <td>22</td>\n",
       "      <td>2200</td>\n",
       "      <td>1040</td>\n",
       "      <td>345104</td>\n",
       "      <td>0</td>\n",
       "      <td>TO DOWNTOWN</td>\n",
       "      <td>...</td>\n",
       "      <td>NaN</td>\n",
       "      <td>0</td>\n",
       "      <td>0</td>\n",
       "      <td>1</td>\n",
       "      <td>0</td>\n",
       "      <td>0.0</td>\n",
       "      <td>0</td>\n",
       "      <td>0.000000</td>\n",
       "      <td>NaN</td>\n",
       "      <td>on_time</td>\n",
       "    </tr>\n",
       "    <tr>\n",
       "      <th>3</th>\n",
       "      <td>120230801</td>\n",
       "      <td>1</td>\n",
       "      <td>99457893</td>\n",
       "      <td>2023-08-01</td>\n",
       "      <td>22</td>\n",
       "      <td>2200</td>\n",
       "      <td>1040</td>\n",
       "      <td>345104</td>\n",
       "      <td>0</td>\n",
       "      <td>TO DOWNTOWN</td>\n",
       "      <td>...</td>\n",
       "      <td>NaN</td>\n",
       "      <td>0</td>\n",
       "      <td>0</td>\n",
       "      <td>1</td>\n",
       "      <td>0</td>\n",
       "      <td>NaN</td>\n",
       "      <td>0</td>\n",
       "      <td>0.000000</td>\n",
       "      <td>NaN</td>\n",
       "      <td>late</td>\n",
       "    </tr>\n",
       "    <tr>\n",
       "      <th>4</th>\n",
       "      <td>120230801</td>\n",
       "      <td>1</td>\n",
       "      <td>99457894</td>\n",
       "      <td>2023-08-01</td>\n",
       "      <td>22</td>\n",
       "      <td>2200</td>\n",
       "      <td>1040</td>\n",
       "      <td>345105</td>\n",
       "      <td>0</td>\n",
       "      <td>FROM DOWNTOWN</td>\n",
       "      <td>...</td>\n",
       "      <td>NaN</td>\n",
       "      <td>0</td>\n",
       "      <td>0</td>\n",
       "      <td>1</td>\n",
       "      <td>0</td>\n",
       "      <td>0.0</td>\n",
       "      <td>0</td>\n",
       "      <td>12.866666</td>\n",
       "      <td>5.0</td>\n",
       "      <td>on_time</td>\n",
       "    </tr>\n",
       "    <tr>\n",
       "      <th>5</th>\n",
       "      <td>120230801</td>\n",
       "      <td>1</td>\n",
       "      <td>99457895</td>\n",
       "      <td>2023-08-01</td>\n",
       "      <td>22</td>\n",
       "      <td>2200</td>\n",
       "      <td>1040</td>\n",
       "      <td>345105</td>\n",
       "      <td>0</td>\n",
       "      <td>FROM DOWNTOWN</td>\n",
       "      <td>...</td>\n",
       "      <td>NaN</td>\n",
       "      <td>0</td>\n",
       "      <td>0</td>\n",
       "      <td>1</td>\n",
       "      <td>0</td>\n",
       "      <td>0.0</td>\n",
       "      <td>0</td>\n",
       "      <td>0.000000</td>\n",
       "      <td>NaN</td>\n",
       "      <td>on_time</td>\n",
       "    </tr>\n",
       "    <tr>\n",
       "      <th>6</th>\n",
       "      <td>120230801</td>\n",
       "      <td>1</td>\n",
       "      <td>99457896</td>\n",
       "      <td>2023-08-01</td>\n",
       "      <td>22</td>\n",
       "      <td>2200</td>\n",
       "      <td>1040</td>\n",
       "      <td>345105</td>\n",
       "      <td>0</td>\n",
       "      <td>FROM DOWNTOWN</td>\n",
       "      <td>...</td>\n",
       "      <td>NaN</td>\n",
       "      <td>0</td>\n",
       "      <td>0</td>\n",
       "      <td>1</td>\n",
       "      <td>0</td>\n",
       "      <td>NaN</td>\n",
       "      <td>0</td>\n",
       "      <td>0.000000</td>\n",
       "      <td>NaN</td>\n",
       "      <td>late</td>\n",
       "    </tr>\n",
       "    <tr>\n",
       "      <th>7</th>\n",
       "      <td>120230801</td>\n",
       "      <td>1</td>\n",
       "      <td>99457897</td>\n",
       "      <td>2023-08-01</td>\n",
       "      <td>22</td>\n",
       "      <td>2200</td>\n",
       "      <td>1040</td>\n",
       "      <td>345106</td>\n",
       "      <td>0</td>\n",
       "      <td>TO DOWNTOWN</td>\n",
       "      <td>...</td>\n",
       "      <td>2.666666</td>\n",
       "      <td>0</td>\n",
       "      <td>0</td>\n",
       "      <td>1</td>\n",
       "      <td>0</td>\n",
       "      <td>0.0</td>\n",
       "      <td>0</td>\n",
       "      <td>13.216666</td>\n",
       "      <td>10.0</td>\n",
       "      <td>on_time</td>\n",
       "    </tr>\n",
       "    <tr>\n",
       "      <th>8</th>\n",
       "      <td>120230801</td>\n",
       "      <td>1</td>\n",
       "      <td>99457898</td>\n",
       "      <td>2023-08-01</td>\n",
       "      <td>22</td>\n",
       "      <td>2200</td>\n",
       "      <td>1040</td>\n",
       "      <td>345106</td>\n",
       "      <td>0</td>\n",
       "      <td>TO DOWNTOWN</td>\n",
       "      <td>...</td>\n",
       "      <td>1.966666</td>\n",
       "      <td>0</td>\n",
       "      <td>0</td>\n",
       "      <td>1</td>\n",
       "      <td>0</td>\n",
       "      <td>0.0</td>\n",
       "      <td>0</td>\n",
       "      <td>0.000000</td>\n",
       "      <td>NaN</td>\n",
       "      <td>on_time</td>\n",
       "    </tr>\n",
       "    <tr>\n",
       "      <th>9</th>\n",
       "      <td>120230801</td>\n",
       "      <td>1</td>\n",
       "      <td>99457899</td>\n",
       "      <td>2023-08-01</td>\n",
       "      <td>22</td>\n",
       "      <td>2200</td>\n",
       "      <td>1040</td>\n",
       "      <td>345106</td>\n",
       "      <td>0</td>\n",
       "      <td>TO DOWNTOWN</td>\n",
       "      <td>...</td>\n",
       "      <td>-0.483334</td>\n",
       "      <td>0</td>\n",
       "      <td>0</td>\n",
       "      <td>1</td>\n",
       "      <td>0</td>\n",
       "      <td>0.0</td>\n",
       "      <td>0</td>\n",
       "      <td>0.000000</td>\n",
       "      <td>NaN</td>\n",
       "      <td>on_time</td>\n",
       "    </tr>\n",
       "    <tr>\n",
       "      <th>10</th>\n",
       "      <td>120230801</td>\n",
       "      <td>1</td>\n",
       "      <td>99457900</td>\n",
       "      <td>2023-08-01</td>\n",
       "      <td>22</td>\n",
       "      <td>2200</td>\n",
       "      <td>1040</td>\n",
       "      <td>345106</td>\n",
       "      <td>0</td>\n",
       "      <td>TO DOWNTOWN</td>\n",
       "      <td>...</td>\n",
       "      <td>NaN</td>\n",
       "      <td>0</td>\n",
       "      <td>0</td>\n",
       "      <td>1</td>\n",
       "      <td>0</td>\n",
       "      <td>NaN</td>\n",
       "      <td>0</td>\n",
       "      <td>0.000000</td>\n",
       "      <td>NaN</td>\n",
       "      <td>late</td>\n",
       "    </tr>\n",
       "  </tbody>\n",
       "</table>\n",
       "<p>11 rows × 31 columns</p>\n",
       "</div>"
      ],
      "text/plain": [
       "    CALENDAR_ID  SERVICE_ABBR  ADHERENCE_ID        DATE  ROUTE_ABBR  \\\n",
       "0     120230801             1      99457890  2023-08-01          22   \n",
       "1     120230801             1      99457891  2023-08-01          22   \n",
       "2     120230801             1      99457892  2023-08-01          22   \n",
       "3     120230801             1      99457893  2023-08-01          22   \n",
       "4     120230801             1      99457894  2023-08-01          22   \n",
       "5     120230801             1      99457895  2023-08-01          22   \n",
       "6     120230801             1      99457896  2023-08-01          22   \n",
       "7     120230801             1      99457897  2023-08-01          22   \n",
       "8     120230801             1      99457898  2023-08-01          22   \n",
       "9     120230801             1      99457899  2023-08-01          22   \n",
       "10    120230801             1      99457900  2023-08-01          22   \n",
       "\n",
       "    BLOCK_ABBR  OPERATOR  TRIP_ID  OVERLOAD_ID ROUTE_DIRECTION_NAME  ...  \\\n",
       "0         2200      1040   345104            0          TO DOWNTOWN  ...   \n",
       "1         2200      1040   345104            0          TO DOWNTOWN  ...   \n",
       "2         2200      1040   345104            0          TO DOWNTOWN  ...   \n",
       "3         2200      1040   345104            0          TO DOWNTOWN  ...   \n",
       "4         2200      1040   345105            0        FROM DOWNTOWN  ...   \n",
       "5         2200      1040   345105            0        FROM DOWNTOWN  ...   \n",
       "6         2200      1040   345105            0        FROM DOWNTOWN  ...   \n",
       "7         2200      1040   345106            0          TO DOWNTOWN  ...   \n",
       "8         2200      1040   345106            0          TO DOWNTOWN  ...   \n",
       "9         2200      1040   345106            0          TO DOWNTOWN  ...   \n",
       "10        2200      1040   345106            0          TO DOWNTOWN  ...   \n",
       "\n",
       "    HDWY_DEV  ADJUSTED_EARLY_COUNT  ADJUSTED_LATE_COUNT  \\\n",
       "0        NaN                     0                    0   \n",
       "1        NaN                     0                    0   \n",
       "2        NaN                     0                    0   \n",
       "3        NaN                     0                    0   \n",
       "4        NaN                     0                    0   \n",
       "5        NaN                     0                    0   \n",
       "6        NaN                     0                    0   \n",
       "7   2.666666                     0                    0   \n",
       "8   1.966666                     0                    0   \n",
       "9  -0.483334                     0                    0   \n",
       "10       NaN                     0                    0   \n",
       "\n",
       "    ADJUSTED_ONTIME_COUNT  STOP_CANCELLED PREV_SCHED_STOP_CANCELLED IS_RELIEF  \\\n",
       "0                       1               0                       0.0         0   \n",
       "1                       1               0                       0.0         0   \n",
       "2                       1               0                       0.0         0   \n",
       "3                       1               0                       NaN         0   \n",
       "4                       1               0                       0.0         0   \n",
       "5                       1               0                       0.0         0   \n",
       "6                       1               0                       NaN         0   \n",
       "7                       1               0                       0.0         0   \n",
       "8                       1               0                       0.0         0   \n",
       "9                       1               0                       0.0         0   \n",
       "10                      1               0                       NaN         0   \n",
       "\n",
       "   DWELL_IN_MINS  SCHEDULED_LAYOVER_MINUTES  on_time_performance  \n",
       "0       6.500000                        NaN              on_time  \n",
       "1       0.000000                        NaN              on_time  \n",
       "2       0.000000                        NaN              on_time  \n",
       "3       0.000000                        NaN                 late  \n",
       "4      12.866666                        5.0              on_time  \n",
       "5       0.000000                        NaN              on_time  \n",
       "6       0.000000                        NaN                 late  \n",
       "7      13.216666                       10.0              on_time  \n",
       "8       0.000000                        NaN              on_time  \n",
       "9       0.000000                        NaN              on_time  \n",
       "10      0.000000                        NaN                 late  \n",
       "\n",
       "[11 rows x 31 columns]"
      ]
     },
     "execution_count": 7,
     "metadata": {},
     "output_type": "execute_result"
    }
   ],
   "source": [
    "wego.head(11)"
   ]
  },
  {
   "cell_type": "code",
   "execution_count": 8,
   "id": "a2fbd762-0fbf-4efc-b722-fc838a4ee0d1",
   "metadata": {},
   "outputs": [],
   "source": [
    "on_time_distribution = wego['on_time_performance'].value_counts().to_frame().reset_index()"
   ]
  },
  {
   "cell_type": "code",
   "execution_count": 9,
   "id": "c612cfda-1383-46ae-987d-409a00378063",
   "metadata": {},
   "outputs": [
    {
     "data": {
      "text/html": [
       "<div>\n",
       "<style scoped>\n",
       "    .dataframe tbody tr th:only-of-type {\n",
       "        vertical-align: middle;\n",
       "    }\n",
       "\n",
       "    .dataframe tbody tr th {\n",
       "        vertical-align: top;\n",
       "    }\n",
       "\n",
       "    .dataframe thead th {\n",
       "        text-align: right;\n",
       "    }\n",
       "</style>\n",
       "<table border=\"1\" class=\"dataframe\">\n",
       "  <thead>\n",
       "    <tr style=\"text-align: right;\">\n",
       "      <th></th>\n",
       "      <th>on_time_performance</th>\n",
       "      <th>count</th>\n",
       "    </tr>\n",
       "  </thead>\n",
       "  <tbody>\n",
       "    <tr>\n",
       "      <th>0</th>\n",
       "      <td>on_time</td>\n",
       "      <td>305829</td>\n",
       "    </tr>\n",
       "    <tr>\n",
       "      <th>1</th>\n",
       "      <td>late</td>\n",
       "      <td>33032</td>\n",
       "    </tr>\n",
       "    <tr>\n",
       "      <th>2</th>\n",
       "      <td>nan</td>\n",
       "      <td>11468</td>\n",
       "    </tr>\n",
       "  </tbody>\n",
       "</table>\n",
       "</div>"
      ],
      "text/plain": [
       "  on_time_performance   count\n",
       "0             on_time  305829\n",
       "1                late   33032\n",
       "2                 nan   11468"
      ]
     },
     "execution_count": 9,
     "metadata": {},
     "output_type": "execute_result"
    }
   ],
   "source": [
    "on_time_distribution "
   ]
  },
  {
   "cell_type": "code",
   "execution_count": 10,
   "id": "490dcf6f-04a6-45e5-a4f2-b6bd5885cf3f",
   "metadata": {},
   "outputs": [
    {
     "data": {
      "image/png": "[encoded data removed]",
      "text/plain": [
       "<Figure size 640x480 with 1 Axes>"
      ]
     },
     "metadata": {},
     "output_type": "display_data"
    }
   ],
   "source": [
    "on_time_distribution.plot(x='on_time_performance',y='count',color = 'green', marker ='s')\n",
    "plt.title('On time performance by count')\n",
    "plt.ylabel('count')\n",
    "plt.savefig('wego_plot.png');"
   ]
  },
  {
   "cell_type": "code",
   "execution_count": 12,
   "id": "e839367d-a1fc-4719-81a8-a7fec784376b",
   "metadata": {},
   "outputs": [
    {
     "name": "stderr",
     "output_type": "stream",
     "text": [
      "C:\\Users\\TitanUp\\AppData\\Local\\Temp\\ipykernel_27952\\1194399940.py:1: FutureWarning: \n",
      "\n",
      "The `ci` parameter is deprecated. Use `errorbar=None` for the same effect.\n",
      "\n",
      "  sns.barplot(data = on_time_distribution ,  x ='on_time_performance', y = 'count',ci= None)\n"
     ]
    },
    {
     "data": {
      "image/png": "[encoded data removed]",
      "text/plain": [
       "<Figure size 640x480 with 1 Axes>"
      ]
     },
     "metadata": {},
     "output_type": "display_data"
    }
   ],
   "source": [
    "sns.barplot(data = on_time_distribution ,  x ='on_time_performance', y = 'count',ci= None)\n",
    "plt.savefig('wego_bar_plot.png');"
   ]
  },
  {
   "cell_type": "code",
   "execution_count": 13,
   "id": "3f20023a-70a0-4f13-a29e-29990b3dfd91",
   "metadata": {},
   "outputs": [
    {
     "data": {
      "image/png": "[encoded data removed]",
      "text/plain": [
       "<Figure size 640x480 with 1 Axes>"
      ]
     },
     "metadata": {},
     "output_type": "display_data"
    }
   ],
   "source": [
    "\n",
    "fig, ax = plt.subplots()\n",
    "ax.pie(on_time_distribution['count'], labels=on_time_distribution['on_time_performance'], autopct='%1.1f%%')\n",
    "plt.savefig('wego_pie_plot.png');"
   ]
  },
  {
   "cell_type": "code",
   "execution_count": 14,
   "id": "65560658-cb31-4b4f-8a43-54bdbf6fca59",
   "metadata": {},
   "outputs": [],
   "source": [
    "adherence  = wego['ADHERENCE'].value_counts().to_frame().reset_index()"
   ]
  },
  {
   "cell_type": "code",
   "execution_count": 15,
   "id": "a6ff2a2d-cc00-48a6-b6fc-b899797c597c",
   "metadata": {},
   "outputs": [
    {
     "data": {
      "text/html": [
       "<div>\n",
       "<style scoped>\n",
       "    .dataframe tbody tr th:only-of-type {\n",
       "        vertical-align: middle;\n",
       "    }\n",
       "\n",
       "    .dataframe tbody tr th {\n",
       "        vertical-align: top;\n",
       "    }\n",
       "\n",
       "    .dataframe thead th {\n",
       "        text-align: right;\n",
       "    }\n",
       "</style>\n",
       "<table border=\"1\" class=\"dataframe\">\n",
       "  <thead>\n",
       "    <tr style=\"text-align: right;\">\n",
       "      <th></th>\n",
       "      <th>ADHERENCE</th>\n",
       "      <th>count</th>\n",
       "    </tr>\n",
       "  </thead>\n",
       "  <tbody>\n",
       "    <tr>\n",
       "      <th>0</th>\n",
       "      <td>0.966666</td>\n",
       "      <td>1355</td>\n",
       "    </tr>\n",
       "    <tr>\n",
       "      <th>1</th>\n",
       "      <td>0.950000</td>\n",
       "      <td>1341</td>\n",
       "    </tr>\n",
       "    <tr>\n",
       "      <th>2</th>\n",
       "      <td>-0.166666</td>\n",
       "      <td>1082</td>\n",
       "    </tr>\n",
       "    <tr>\n",
       "      <th>3</th>\n",
       "      <td>-0.200000</td>\n",
       "      <td>1042</td>\n",
       "    </tr>\n",
       "    <tr>\n",
       "      <th>4</th>\n",
       "      <td>-0.100000</td>\n",
       "      <td>1033</td>\n",
       "    </tr>\n",
       "    <tr>\n",
       "      <th>...</th>\n",
       "      <td>...</td>\n",
       "      <td>...</td>\n",
       "    </tr>\n",
       "    <tr>\n",
       "      <th>3760</th>\n",
       "      <td>-108.733333</td>\n",
       "      <td>1</td>\n",
       "    </tr>\n",
       "    <tr>\n",
       "      <th>3761</th>\n",
       "      <td>-111.116666</td>\n",
       "      <td>1</td>\n",
       "    </tr>\n",
       "    <tr>\n",
       "      <th>3762</th>\n",
       "      <td>-41.366666</td>\n",
       "      <td>1</td>\n",
       "    </tr>\n",
       "    <tr>\n",
       "      <th>3763</th>\n",
       "      <td>32.800000</td>\n",
       "      <td>1</td>\n",
       "    </tr>\n",
       "    <tr>\n",
       "      <th>3764</th>\n",
       "      <td>13.366666</td>\n",
       "      <td>1</td>\n",
       "    </tr>\n",
       "  </tbody>\n",
       "</table>\n",
       "<p>3765 rows × 2 columns</p>\n",
       "</div>"
      ],
      "text/plain": [
       "       ADHERENCE  count\n",
       "0       0.966666   1355\n",
       "1       0.950000   1341\n",
       "2      -0.166666   1082\n",
       "3      -0.200000   1042\n",
       "4      -0.100000   1033\n",
       "...          ...    ...\n",
       "3760 -108.733333      1\n",
       "3761 -111.116666      1\n",
       "3762  -41.366666      1\n",
       "3763   32.800000      1\n",
       "3764   13.366666      1\n",
       "\n",
       "[3765 rows x 2 columns]"
      ]
     },
     "execution_count": 15,
     "metadata": {},
     "output_type": "execute_result"
    }
   ],
   "source": [
    "adherence "
   ]
  },
  {
   "cell_type": "code",
   "execution_count": 16,
   "id": "ff62504a-88c4-4b8d-a0fa-086f4b9a2a8c",
   "metadata": {},
   "outputs": [
    {
     "data": {
      "image/png": "[encoded data removed]",
      "text/plain": [
       "<Figure size 640x480 with 1 Axes>"
      ]
     },
     "metadata": {},
     "output_type": "display_data"
    }
   ],
   "source": [
    "sns.scatterplot(data = adherence ,x = 'ADHERENCE', y='count',color = 'green', marker ='s');"
   ]
  },
  {
   "cell_type": "code",
   "execution_count": 17,
   "id": "2ff67fe2-e019-4481-806a-0d8a640c21c4",
   "metadata": {},
   "outputs": [
    {
     "name": "stderr",
     "output_type": "stream",
     "text": [
      "C:\\Users\\TitanUp\\anaconda3\\Lib\\site-packages\\seaborn\\_oldcore.py:1119: FutureWarning: use_inf_as_na option is deprecated and will be removed in a future version. Convert inf values to NaN before operating instead.\n",
      "  with pd.option_context('mode.use_inf_as_na', True):\n"
     ]
    },
    {
     "data": {
      "image/png": "[encoded data removed]",
      "text/plain": [
       "<Figure size 1000x600 with 1 Axes>"
      ]
     },
     "metadata": {},
     "output_type": "display_data"
    }
   ],
   "source": [
    "plt.figure(figsize=(10, 6))\n",
    "sns.histplot(adherence, bins=20, kde=True, stat='density', color='blue')\n",
    "plt.title('Distribution of Adherence')\n",
    "plt.xlabel('ADHERENCE ')\n",
    "plt.ylabel('count')\n",
    "plt.show()"
   ]
  },
  {
   "cell_type": "code",
   "execution_count": null,
   "id": "3ec9bbb9-2dde-4a70-9b04-b75fa74fbd83",
   "metadata": {},
   "outputs": [],
   "source": []
  },
  {
   "cell_type": "code",
   "execution_count": null,
   "id": "089a15b0-3f0f-4dc1-8186-8e8eeb26c53d",
   "metadata": {},
   "outputs": [],
   "source": []
  },
  {
   "cell_type": "markdown",
   "id": "a74bf4d9-751b-42ea-8cde-b6102ad373cc",
   "metadata": {},
   "source": [
    "2.How does direction of travel, route, or location affect the on-time performance?"
   ]
  },
  {
   "cell_type": "code",
   "execution_count": 18,
   "id": "2a4d4e0d-ae9d-434b-abe1-ee13fc6eafb8",
   "metadata": {},
   "outputs": [
    {
     "data": {
      "image/png": "[encoded data removed]",
      "text/plain": [
       "<Figure size 640x480 with 1 Axes>"
      ]
     },
     "metadata": {},
     "output_type": "display_data"
    },
    {
     "data": {
      "text/plain": [
       "<Figure size 640x480 with 0 Axes>"
      ]
     },
     "metadata": {},
     "output_type": "display_data"
    }
   ],
   "source": [
    "sns.boxplot(x='ROUTE_ABBR', y='on_time_performance', data=wego)\n",
    "plt.title('on_time_performance by Route')\n",
    "plt.show()\n",
    "plt.savefig('wego_box_plot.png');"
   ]
  },
  {
   "cell_type": "code",
   "execution_count": null,
   "id": "498d9982-d2de-48ce-b7b5-c514b489f3c3",
   "metadata": {},
   "outputs": [],
   "source": []
  },
  {
   "cell_type": "code",
   "execution_count": 19,
   "id": "803417d4-867c-4b1a-b556-fb63c5de1b08",
   "metadata": {},
   "outputs": [],
   "source": [
    "wego['on-time performance']=(wego['ADJUSTED_ONTIME_COUNT'] *100)/ (\n",
    "    wego['ADJUSTED_ONTIME_COUNT'] + wego['ADJUSTED_LATE_COUNT'] + wego['ADJUSTED_EARLY_COUNT']\n",
    ")"
   ]
  },
  {
   "cell_type": "code",
   "execution_count": 20,
   "id": "acb8a78a-ef00-486c-bc18-1d836660557f",
   "metadata": {},
   "outputs": [
    {
     "data": {
      "text/html": [
       "<div>\n",
       "<style scoped>\n",
       "    .dataframe tbody tr th:only-of-type {\n",
       "        vertical-align: middle;\n",
       "    }\n",
       "\n",
       "    .dataframe tbody tr th {\n",
       "        vertical-align: top;\n",
       "    }\n",
       "\n",
       "    .dataframe thead th {\n",
       "        text-align: right;\n",
       "    }\n",
       "</style>\n",
       "<table border=\"1\" class=\"dataframe\">\n",
       "  <thead>\n",
       "    <tr style=\"text-align: right;\">\n",
       "      <th></th>\n",
       "      <th>CALENDAR_ID</th>\n",
       "      <th>SERVICE_ABBR</th>\n",
       "      <th>ADHERENCE_ID</th>\n",
       "      <th>DATE</th>\n",
       "      <th>ROUTE_ABBR</th>\n",
       "      <th>BLOCK_ABBR</th>\n",
       "      <th>OPERATOR</th>\n",
       "      <th>TRIP_ID</th>\n",
       "      <th>OVERLOAD_ID</th>\n",
       "      <th>ROUTE_DIRECTION_NAME</th>\n",
       "      <th>...</th>\n",
       "      <th>ADJUSTED_EARLY_COUNT</th>\n",
       "      <th>ADJUSTED_LATE_COUNT</th>\n",
       "      <th>ADJUSTED_ONTIME_COUNT</th>\n",
       "      <th>STOP_CANCELLED</th>\n",
       "      <th>PREV_SCHED_STOP_CANCELLED</th>\n",
       "      <th>IS_RELIEF</th>\n",
       "      <th>DWELL_IN_MINS</th>\n",
       "      <th>SCHEDULED_LAYOVER_MINUTES</th>\n",
       "      <th>on_time_performance</th>\n",
       "      <th>on-time performance</th>\n",
       "    </tr>\n",
       "  </thead>\n",
       "  <tbody>\n",
       "    <tr>\n",
       "      <th>0</th>\n",
       "      <td>120230801</td>\n",
       "      <td>1</td>\n",
       "      <td>99457890</td>\n",
       "      <td>2023-08-01</td>\n",
       "      <td>22</td>\n",
       "      <td>2200</td>\n",
       "      <td>1040</td>\n",
       "      <td>345104</td>\n",
       "      <td>0</td>\n",
       "      <td>TO DOWNTOWN</td>\n",
       "      <td>...</td>\n",
       "      <td>0</td>\n",
       "      <td>0</td>\n",
       "      <td>1</td>\n",
       "      <td>0</td>\n",
       "      <td>0.0</td>\n",
       "      <td>0</td>\n",
       "      <td>6.5</td>\n",
       "      <td>NaN</td>\n",
       "      <td>on_time</td>\n",
       "      <td>100.0</td>\n",
       "    </tr>\n",
       "    <tr>\n",
       "      <th>1</th>\n",
       "      <td>120230801</td>\n",
       "      <td>1</td>\n",
       "      <td>99457891</td>\n",
       "      <td>2023-08-01</td>\n",
       "      <td>22</td>\n",
       "      <td>2200</td>\n",
       "      <td>1040</td>\n",
       "      <td>345104</td>\n",
       "      <td>0</td>\n",
       "      <td>TO DOWNTOWN</td>\n",
       "      <td>...</td>\n",
       "      <td>0</td>\n",
       "      <td>0</td>\n",
       "      <td>1</td>\n",
       "      <td>0</td>\n",
       "      <td>0.0</td>\n",
       "      <td>0</td>\n",
       "      <td>0.0</td>\n",
       "      <td>NaN</td>\n",
       "      <td>on_time</td>\n",
       "      <td>100.0</td>\n",
       "    </tr>\n",
       "  </tbody>\n",
       "</table>\n",
       "<p>2 rows × 32 columns</p>\n",
       "</div>"
      ],
      "text/plain": [
       "   CALENDAR_ID  SERVICE_ABBR  ADHERENCE_ID        DATE  ROUTE_ABBR  \\\n",
       "0    120230801             1      99457890  2023-08-01          22   \n",
       "1    120230801             1      99457891  2023-08-01          22   \n",
       "\n",
       "   BLOCK_ABBR  OPERATOR  TRIP_ID  OVERLOAD_ID ROUTE_DIRECTION_NAME  ...  \\\n",
       "0        2200      1040   345104            0          TO DOWNTOWN  ...   \n",
       "1        2200      1040   345104            0          TO DOWNTOWN  ...   \n",
       "\n",
       "  ADJUSTED_EARLY_COUNT  ADJUSTED_LATE_COUNT  ADJUSTED_ONTIME_COUNT  \\\n",
       "0                    0                    0                      1   \n",
       "1                    0                    0                      1   \n",
       "\n",
       "   STOP_CANCELLED  PREV_SCHED_STOP_CANCELLED IS_RELIEF DWELL_IN_MINS  \\\n",
       "0               0                        0.0         0           6.5   \n",
       "1               0                        0.0         0           0.0   \n",
       "\n",
       "  SCHEDULED_LAYOVER_MINUTES  on_time_performance  on-time performance  \n",
       "0                       NaN              on_time                100.0  \n",
       "1                       NaN              on_time                100.0  \n",
       "\n",
       "[2 rows x 32 columns]"
      ]
     },
     "execution_count": 20,
     "metadata": {},
     "output_type": "execute_result"
    }
   ],
   "source": [
    "wego.head(2)"
   ]
  },
  {
   "cell_type": "code",
   "execution_count": 21,
   "id": "369a005e-e992-417d-8a40-3cc4eb1a3445",
   "metadata": {},
   "outputs": [
    {
     "data": {
      "text/html": [
       "<div>\n",
       "<style scoped>\n",
       "    .dataframe tbody tr th:only-of-type {\n",
       "        vertical-align: middle;\n",
       "    }\n",
       "\n",
       "    .dataframe tbody tr th {\n",
       "        vertical-align: top;\n",
       "    }\n",
       "\n",
       "    .dataframe thead th {\n",
       "        text-align: right;\n",
       "    }\n",
       "</style>\n",
       "<table border=\"1\" class=\"dataframe\">\n",
       "  <thead>\n",
       "    <tr style=\"text-align: right;\">\n",
       "      <th></th>\n",
       "      <th>on-time performance</th>\n",
       "      <th>count</th>\n",
       "    </tr>\n",
       "  </thead>\n",
       "  <tbody>\n",
       "    <tr>\n",
       "      <th>0</th>\n",
       "      <td>100.0</td>\n",
       "      <td>270048</td>\n",
       "    </tr>\n",
       "    <tr>\n",
       "      <th>1</th>\n",
       "      <td>0.0</td>\n",
       "      <td>68813</td>\n",
       "    </tr>\n",
       "  </tbody>\n",
       "</table>\n",
       "</div>"
      ],
      "text/plain": [
       "   on-time performance   count\n",
       "0                100.0  270048\n",
       "1                  0.0   68813"
      ]
     },
     "execution_count": 21,
     "metadata": {},
     "output_type": "execute_result"
    }
   ],
   "source": [
    "wego['on-time performance'].value_counts().reset_index()"
   ]
  },
  {
   "cell_type": "markdown",
   "id": "d776f096-2bc0-4c23-b12a-b8dcf4b151e5",
   "metadata": {},
   "source": [
    "plt.pie(wego['count'], labels = wego['on-time performance']);"
   ]
  },
  {
   "cell_type": "code",
   "execution_count": 22,
   "id": "c69e3ed8-a30f-4074-b468-f6944648fa79",
   "metadata": {},
   "outputs": [
    {
     "data": {
      "text/plain": [
       "on-time performance\n",
       "0.0      52.0\n",
       "100.0    50.0\n",
       "Name: ROUTE_ABBR, dtype: float64"
      ]
     },
     "execution_count": 22,
     "metadata": {},
     "output_type": "execute_result"
    }
   ],
   "source": [
    "wego.groupby('on-time performance')['ROUTE_ABBR'].median()"
   ]
  },
  {
   "cell_type": "markdown",
   "id": "00c053d0-dee4-406f-9627-d97b0a16d828",
   "metadata": {},
   "source": [
    "sns.boxplot(x='ROUTE_ABBR', y='on-time performance', data=wego)\n",
    "plt.title('On time Performance by  Different Routes')\n",
    "plt.show()\n",
    "plt.savefig('On time Performance by Different Routes_boxplot.png');"
   ]
  },
  {
   "cell_type": "markdown",
   "id": "1b0f80c5-ec51-4ce5-be34-c367a9acf4b7",
   "metadata": {},
   "source": [
    "In the data, the bus route can be identified by its ROUTE_ABBR value.\n",
    "3: West End\n",
    "7: Hillsboro\n",
    "22: Bordeaux\n",
    "23: Dickerson Pike\n",
    "50: Charlotte Pike\n",
    "52: Nolensville Pike\n",
    "55: Murfreesboro Pike\n",
    "56: Gallatin Pike"
   ]
  },
  {
   "cell_type": "code",
   "execution_count": 24,
   "id": "2fdd5c8e-4ee0-4f58-ba08-a54a7ce34fa9",
   "metadata": {},
   "outputs": [
    {
     "data": {
      "text/html": [
       "<div>\n",
       "<style scoped>\n",
       "    .dataframe tbody tr th:only-of-type {\n",
       "        vertical-align: middle;\n",
       "    }\n",
       "\n",
       "    .dataframe tbody tr th {\n",
       "        vertical-align: top;\n",
       "    }\n",
       "\n",
       "    .dataframe thead th {\n",
       "        text-align: right;\n",
       "    }\n",
       "</style>\n",
       "<table border=\"1\" class=\"dataframe\">\n",
       "  <thead>\n",
       "    <tr style=\"text-align: right;\">\n",
       "      <th></th>\n",
       "      <th>CALENDAR_ID</th>\n",
       "      <th>SERVICE_ABBR</th>\n",
       "      <th>ADHERENCE_ID</th>\n",
       "      <th>DATE</th>\n",
       "      <th>ROUTE_ABBR</th>\n",
       "      <th>BLOCK_ABBR</th>\n",
       "      <th>OPERATOR</th>\n",
       "      <th>TRIP_ID</th>\n",
       "      <th>OVERLOAD_ID</th>\n",
       "      <th>ROUTE_DIRECTION_NAME</th>\n",
       "      <th>...</th>\n",
       "      <th>ADJUSTED_EARLY_COUNT</th>\n",
       "      <th>ADJUSTED_LATE_COUNT</th>\n",
       "      <th>ADJUSTED_ONTIME_COUNT</th>\n",
       "      <th>STOP_CANCELLED</th>\n",
       "      <th>PREV_SCHED_STOP_CANCELLED</th>\n",
       "      <th>IS_RELIEF</th>\n",
       "      <th>DWELL_IN_MINS</th>\n",
       "      <th>SCHEDULED_LAYOVER_MINUTES</th>\n",
       "      <th>on_time_performance</th>\n",
       "      <th>on-time performance</th>\n",
       "    </tr>\n",
       "  </thead>\n",
       "  <tbody>\n",
       "    <tr>\n",
       "      <th>1272</th>\n",
       "      <td>120230801</td>\n",
       "      <td>1</td>\n",
       "      <td>99459625</td>\n",
       "      <td>2023-08-01</td>\n",
       "      <td>3</td>\n",
       "      <td>300</td>\n",
       "      <td>2529</td>\n",
       "      <td>346048</td>\n",
       "      <td>0</td>\n",
       "      <td>TO DOWNTOWN</td>\n",
       "      <td>...</td>\n",
       "      <td>0</td>\n",
       "      <td>0</td>\n",
       "      <td>1</td>\n",
       "      <td>0</td>\n",
       "      <td>0.0</td>\n",
       "      <td>0</td>\n",
       "      <td>8.433333</td>\n",
       "      <td>NaN</td>\n",
       "      <td>on_time</td>\n",
       "      <td>100.0</td>\n",
       "    </tr>\n",
       "  </tbody>\n",
       "</table>\n",
       "<p>1 rows × 32 columns</p>\n",
       "</div>"
      ],
      "text/plain": [
       "      CALENDAR_ID  SERVICE_ABBR  ADHERENCE_ID        DATE  ROUTE_ABBR  \\\n",
       "1272    120230801             1      99459625  2023-08-01           3   \n",
       "\n",
       "      BLOCK_ABBR  OPERATOR  TRIP_ID  OVERLOAD_ID ROUTE_DIRECTION_NAME  ...  \\\n",
       "1272         300      2529   346048            0          TO DOWNTOWN  ...   \n",
       "\n",
       "     ADJUSTED_EARLY_COUNT  ADJUSTED_LATE_COUNT  ADJUSTED_ONTIME_COUNT  \\\n",
       "1272                    0                    0                      1   \n",
       "\n",
       "      STOP_CANCELLED  PREV_SCHED_STOP_CANCELLED IS_RELIEF DWELL_IN_MINS  \\\n",
       "1272               0                        0.0         0      8.433333   \n",
       "\n",
       "     SCHEDULED_LAYOVER_MINUTES  on_time_performance  on-time performance  \n",
       "1272                       NaN              on_time                100.0  \n",
       "\n",
       "[1 rows x 32 columns]"
      ]
     },
     "execution_count": 24,
     "metadata": {},
     "output_type": "execute_result"
    }
   ],
   "source": [
    "west_end_df = wego.loc[wego['ROUTE_ABBR']== 3 ]\n",
    "west_end_df.head(1)"
   ]
  },
  {
   "cell_type": "code",
   "execution_count": 25,
   "id": "a0818289-be8f-4d2b-958e-f0dab81c1d6e",
   "metadata": {},
   "outputs": [
    {
     "data": {
      "text/plain": [
       "ROUTE_ABBR\n",
       "3    100.0\n",
       "Name: on-time performance, dtype: float64"
      ]
     },
     "execution_count": 25,
     "metadata": {},
     "output_type": "execute_result"
    }
   ],
   "source": [
    "west_end_df.groupby('ROUTE_ABBR')['on-time performance'].median()"
   ]
  },
  {
   "cell_type": "code",
   "execution_count": 26,
   "id": "3afc1345-8b83-4015-aceb-438e5ef46807",
   "metadata": {},
   "outputs": [
    {
     "data": {
      "text/html": [
       "<div>\n",
       "<style scoped>\n",
       "    .dataframe tbody tr th:only-of-type {\n",
       "        vertical-align: middle;\n",
       "    }\n",
       "\n",
       "    .dataframe tbody tr th {\n",
       "        vertical-align: top;\n",
       "    }\n",
       "\n",
       "    .dataframe thead th {\n",
       "        text-align: right;\n",
       "    }\n",
       "</style>\n",
       "<table border=\"1\" class=\"dataframe\">\n",
       "  <thead>\n",
       "    <tr style=\"text-align: right;\">\n",
       "      <th></th>\n",
       "      <th>ROUTE_ABBR</th>\n",
       "      <th>count</th>\n",
       "    </tr>\n",
       "  </thead>\n",
       "  <tbody>\n",
       "    <tr>\n",
       "      <th>0</th>\n",
       "      <td>55</td>\n",
       "      <td>61944</td>\n",
       "    </tr>\n",
       "    <tr>\n",
       "      <th>1</th>\n",
       "      <td>56</td>\n",
       "      <td>60020</td>\n",
       "    </tr>\n",
       "    <tr>\n",
       "      <th>2</th>\n",
       "      <td>52</td>\n",
       "      <td>51819</td>\n",
       "    </tr>\n",
       "    <tr>\n",
       "      <th>3</th>\n",
       "      <td>3</td>\n",
       "      <td>47162</td>\n",
       "    </tr>\n",
       "    <tr>\n",
       "      <th>4</th>\n",
       "      <td>50</td>\n",
       "      <td>43291</td>\n",
       "    </tr>\n",
       "    <tr>\n",
       "      <th>5</th>\n",
       "      <td>23</td>\n",
       "      <td>42108</td>\n",
       "    </tr>\n",
       "    <tr>\n",
       "      <th>6</th>\n",
       "      <td>22</td>\n",
       "      <td>25959</td>\n",
       "    </tr>\n",
       "    <tr>\n",
       "      <th>7</th>\n",
       "      <td>7</td>\n",
       "      <td>18026</td>\n",
       "    </tr>\n",
       "  </tbody>\n",
       "</table>\n",
       "</div>"
      ],
      "text/plain": [
       "   ROUTE_ABBR  count\n",
       "0          55  61944\n",
       "1          56  60020\n",
       "2          52  51819\n",
       "3           3  47162\n",
       "4          50  43291\n",
       "5          23  42108\n",
       "6          22  25959\n",
       "7           7  18026"
      ]
     },
     "execution_count": 26,
     "metadata": {},
     "output_type": "execute_result"
    }
   ],
   "source": [
    "Route_counts = wego['ROUTE_ABBR'].value_counts().reset_index()\n",
    "Route_counts "
   ]
  },
  {
   "cell_type": "code",
   "execution_count": 27,
   "id": "39e15fe9-61f9-4e3d-8303-5ff5b83eb168",
   "metadata": {},
   "outputs": [
    {
     "data": {
      "image/png": "[encoded data removed]",
      "text/plain": [
       "<Figure size 640x480 with 1 Axes>"
      ]
     },
     "metadata": {},
     "output_type": "display_data"
    }
   ],
   "source": [
    "sns.scatterplot(data = Route_counts ,x = 'ROUTE_ABBR', y='count',color = 'green', marker ='s');"
   ]
  },
  {
   "cell_type": "code",
   "execution_count": 28,
   "id": "6debe3aa-5908-49f8-9657-b0023d2c2d4f",
   "metadata": {},
   "outputs": [
    {
     "name": "stderr",
     "output_type": "stream",
     "text": [
      "C:\\Users\\TitanUp\\AppData\\Local\\Temp\\ipykernel_27952\\1783482175.py:1: FutureWarning: \n",
      "\n",
      "The `ci` parameter is deprecated. Use `errorbar=None` for the same effect.\n",
      "\n",
      "  sns.barplot(data = Route_counts,  x ='ROUTE_ABBR', y = 'count',ci= None)\n"
     ]
    },
    {
     "data": {
      "image/png": "[encoded data removed]",
      "text/plain": [
       "<Figure size 640x480 with 1 Axes>"
      ]
     },
     "metadata": {},
     "output_type": "display_data"
    },
    {
     "data": {
      "text/plain": [
       "<Figure size 640x480 with 0 Axes>"
      ]
     },
     "metadata": {},
     "output_type": "display_data"
    }
   ],
   "source": [
    "sns.barplot(data = Route_counts,  x ='ROUTE_ABBR', y = 'count',ci= None)\n",
    "plt.title('Bus Routes by count')\n",
    "plt.show()\n",
    "plt.savefig('wego_barplot_0_plot.png');"
   ]
  },
  {
   "cell_type": "code",
   "execution_count": 29,
   "id": "808eb32f-5ba8-4e05-8cba-6ededea8cc70",
   "metadata": {},
   "outputs": [],
   "source": [
    " on_time_performance_routes = wego[['ROUTE_ABBR', 'on_time_performance']] "
   ]
  },
  {
   "cell_type": "code",
   "execution_count": 30,
   "id": "920b1f87-9ca6-40da-9b4f-3f1ef179f8e2",
   "metadata": {},
   "outputs": [
    {
     "data": {
      "text/html": [
       "<div>\n",
       "<style scoped>\n",
       "    .dataframe tbody tr th:only-of-type {\n",
       "        vertical-align: middle;\n",
       "    }\n",
       "\n",
       "    .dataframe tbody tr th {\n",
       "        vertical-align: top;\n",
       "    }\n",
       "\n",
       "    .dataframe thead th {\n",
       "        text-align: right;\n",
       "    }\n",
       "</style>\n",
       "<table border=\"1\" class=\"dataframe\">\n",
       "  <thead>\n",
       "    <tr style=\"text-align: right;\">\n",
       "      <th></th>\n",
       "      <th>ROUTE_ABBR</th>\n",
       "      <th>on_time_performance</th>\n",
       "    </tr>\n",
       "  </thead>\n",
       "  <tbody>\n",
       "    <tr>\n",
       "      <th>0</th>\n",
       "      <td>22</td>\n",
       "      <td>on_time</td>\n",
       "    </tr>\n",
       "    <tr>\n",
       "      <th>1</th>\n",
       "      <td>22</td>\n",
       "      <td>on_time</td>\n",
       "    </tr>\n",
       "    <tr>\n",
       "      <th>2</th>\n",
       "      <td>22</td>\n",
       "      <td>on_time</td>\n",
       "    </tr>\n",
       "    <tr>\n",
       "      <th>3</th>\n",
       "      <td>22</td>\n",
       "      <td>late</td>\n",
       "    </tr>\n",
       "    <tr>\n",
       "      <th>4</th>\n",
       "      <td>22</td>\n",
       "      <td>on_time</td>\n",
       "    </tr>\n",
       "    <tr>\n",
       "      <th>...</th>\n",
       "      <td>...</td>\n",
       "      <td>...</td>\n",
       "    </tr>\n",
       "    <tr>\n",
       "      <th>350324</th>\n",
       "      <td>7</td>\n",
       "      <td>on_time</td>\n",
       "    </tr>\n",
       "    <tr>\n",
       "      <th>350325</th>\n",
       "      <td>7</td>\n",
       "      <td>on_time</td>\n",
       "    </tr>\n",
       "    <tr>\n",
       "      <th>350326</th>\n",
       "      <td>7</td>\n",
       "      <td>on_time</td>\n",
       "    </tr>\n",
       "    <tr>\n",
       "      <th>350327</th>\n",
       "      <td>7</td>\n",
       "      <td>on_time</td>\n",
       "    </tr>\n",
       "    <tr>\n",
       "      <th>350328</th>\n",
       "      <td>7</td>\n",
       "      <td>on_time</td>\n",
       "    </tr>\n",
       "  </tbody>\n",
       "</table>\n",
       "<p>350329 rows × 2 columns</p>\n",
       "</div>"
      ],
      "text/plain": [
       "        ROUTE_ABBR on_time_performance\n",
       "0               22             on_time\n",
       "1               22             on_time\n",
       "2               22             on_time\n",
       "3               22                late\n",
       "4               22             on_time\n",
       "...            ...                 ...\n",
       "350324           7             on_time\n",
       "350325           7             on_time\n",
       "350326           7             on_time\n",
       "350327           7             on_time\n",
       "350328           7             on_time\n",
       "\n",
       "[350329 rows x 2 columns]"
      ]
     },
     "execution_count": 30,
     "metadata": {},
     "output_type": "execute_result"
    }
   ],
   "source": [
    " on_time_performance_routes"
   ]
  },
  {
   "cell_type": "code",
   "execution_count": 31,
   "id": "48a7985f-a910-4208-999c-9b2cef445abc",
   "metadata": {},
   "outputs": [
    {
     "data": {
      "image/png": "[encoded data removed]",
      "text/plain": [
       "<Figure size 640x480 with 1 Axes>"
      ]
     },
     "metadata": {},
     "output_type": "display_data"
    }
   ],
   "source": [
    "sns.scatterplot(data = on_time_performance_routes,x = 'on_time_performance', y='ROUTE_ABBR',color = 'green', marker ='s')\n",
    "plt.title('On time performance by Routes')\n",
    "plt.savefig('wego_scatter_0_plot.png');"
   ]
  },
  {
   "cell_type": "code",
   "execution_count": 32,
   "id": "691b20e7-ebcc-427a-a267-7bec71fe6191",
   "metadata": {},
   "outputs": [
    {
     "name": "stderr",
     "output_type": "stream",
     "text": [
      "C:\\Users\\TitanUp\\AppData\\Local\\Temp\\ipykernel_27952\\1980676157.py:1: FutureWarning: \n",
      "\n",
      "The `ci` parameter is deprecated. Use `errorbar=None` for the same effect.\n",
      "\n",
      "  sns.barplot(data = on_time_performance_routes,  x ='on_time_performance', y = 'ROUTE_ABBR',ci= None)\n"
     ]
    },
    {
     "data": {
      "image/png": "[encoded data removed]",
      "text/plain": [
       "<Figure size 640x480 with 1 Axes>"
      ]
     },
     "metadata": {},
     "output_type": "display_data"
    },
    {
     "data": {
      "text/plain": [
       "<Figure size 640x480 with 0 Axes>"
      ]
     },
     "metadata": {},
     "output_type": "display_data"
    }
   ],
   "source": [
    "sns.barplot(data = on_time_performance_routes,  x ='on_time_performance', y = 'ROUTE_ABBR',ci= None)\n",
    "plt.title('On time performance by Routes')\n",
    "plt.show()\n",
    "plt.savefig('wego_barplot_10_plot.png');"
   ]
  },
  {
   "cell_type": "code",
   "execution_count": 33,
   "id": "8f2e6164-7143-4a79-a098-c1aff83e5ef2",
   "metadata": {},
   "outputs": [
    {
     "data": {
      "text/html": [
       "<div>\n",
       "<style scoped>\n",
       "    .dataframe tbody tr th:only-of-type {\n",
       "        vertical-align: middle;\n",
       "    }\n",
       "\n",
       "    .dataframe tbody tr th {\n",
       "        vertical-align: top;\n",
       "    }\n",
       "\n",
       "    .dataframe thead th {\n",
       "        text-align: right;\n",
       "    }\n",
       "</style>\n",
       "<table border=\"1\" class=\"dataframe\">\n",
       "  <thead>\n",
       "    <tr style=\"text-align: right;\">\n",
       "      <th></th>\n",
       "      <th>CALENDAR_ID</th>\n",
       "      <th>SERVICE_ABBR</th>\n",
       "      <th>ADHERENCE_ID</th>\n",
       "      <th>DATE</th>\n",
       "      <th>ROUTE_ABBR</th>\n",
       "      <th>BLOCK_ABBR</th>\n",
       "      <th>OPERATOR</th>\n",
       "      <th>TRIP_ID</th>\n",
       "      <th>OVERLOAD_ID</th>\n",
       "      <th>ROUTE_DIRECTION_NAME</th>\n",
       "      <th>...</th>\n",
       "      <th>ADJUSTED_EARLY_COUNT</th>\n",
       "      <th>ADJUSTED_LATE_COUNT</th>\n",
       "      <th>ADJUSTED_ONTIME_COUNT</th>\n",
       "      <th>STOP_CANCELLED</th>\n",
       "      <th>PREV_SCHED_STOP_CANCELLED</th>\n",
       "      <th>IS_RELIEF</th>\n",
       "      <th>DWELL_IN_MINS</th>\n",
       "      <th>SCHEDULED_LAYOVER_MINUTES</th>\n",
       "      <th>on_time_performance</th>\n",
       "      <th>on-time performance</th>\n",
       "    </tr>\n",
       "  </thead>\n",
       "  <tbody>\n",
       "    <tr>\n",
       "      <th>0</th>\n",
       "      <td>120230801</td>\n",
       "      <td>1</td>\n",
       "      <td>99457890</td>\n",
       "      <td>2023-08-01</td>\n",
       "      <td>22</td>\n",
       "      <td>2200</td>\n",
       "      <td>1040</td>\n",
       "      <td>345104</td>\n",
       "      <td>0</td>\n",
       "      <td>TO DOWNTOWN</td>\n",
       "      <td>...</td>\n",
       "      <td>0</td>\n",
       "      <td>0</td>\n",
       "      <td>1</td>\n",
       "      <td>0</td>\n",
       "      <td>0.0</td>\n",
       "      <td>0</td>\n",
       "      <td>6.5</td>\n",
       "      <td>NaN</td>\n",
       "      <td>on_time</td>\n",
       "      <td>100.0</td>\n",
       "    </tr>\n",
       "  </tbody>\n",
       "</table>\n",
       "<p>1 rows × 32 columns</p>\n",
       "</div>"
      ],
      "text/plain": [
       "   CALENDAR_ID  SERVICE_ABBR  ADHERENCE_ID        DATE  ROUTE_ABBR  \\\n",
       "0    120230801             1      99457890  2023-08-01          22   \n",
       "\n",
       "   BLOCK_ABBR  OPERATOR  TRIP_ID  OVERLOAD_ID ROUTE_DIRECTION_NAME  ...  \\\n",
       "0        2200      1040   345104            0          TO DOWNTOWN  ...   \n",
       "\n",
       "  ADJUSTED_EARLY_COUNT  ADJUSTED_LATE_COUNT  ADJUSTED_ONTIME_COUNT  \\\n",
       "0                    0                    0                      1   \n",
       "\n",
       "   STOP_CANCELLED  PREV_SCHED_STOP_CANCELLED IS_RELIEF DWELL_IN_MINS  \\\n",
       "0               0                        0.0         0           6.5   \n",
       "\n",
       "  SCHEDULED_LAYOVER_MINUTES  on_time_performance  on-time performance  \n",
       "0                       NaN              on_time                100.0  \n",
       "\n",
       "[1 rows x 32 columns]"
      ]
     },
     "execution_count": 33,
     "metadata": {},
     "output_type": "execute_result"
    }
   ],
   "source": [
    "wego.head(1)"
   ]
  },
  {
   "cell_type": "code",
   "execution_count": 34,
   "id": "db525714-581e-48b4-a5a6-d1236eea5445",
   "metadata": {},
   "outputs": [],
   "source": [
    "late_df = wego.loc[wego['on_time_performance'] == 'late'].sort_values('ROUTE_ABBR',ascending =True)"
   ]
  },
  {
   "cell_type": "code",
   "execution_count": 35,
   "id": "0ed12a05-c4d3-4d43-9e90-3b5990f62c90",
   "metadata": {},
   "outputs": [
    {
     "data": {
      "text/html": [
       "<div>\n",
       "<style scoped>\n",
       "    .dataframe tbody tr th:only-of-type {\n",
       "        vertical-align: middle;\n",
       "    }\n",
       "\n",
       "    .dataframe tbody tr th {\n",
       "        vertical-align: top;\n",
       "    }\n",
       "\n",
       "    .dataframe thead th {\n",
       "        text-align: right;\n",
       "    }\n",
       "</style>\n",
       "<table border=\"1\" class=\"dataframe\">\n",
       "  <thead>\n",
       "    <tr style=\"text-align: right;\">\n",
       "      <th></th>\n",
       "      <th>CALENDAR_ID</th>\n",
       "      <th>SERVICE_ABBR</th>\n",
       "      <th>ADHERENCE_ID</th>\n",
       "      <th>DATE</th>\n",
       "      <th>ROUTE_ABBR</th>\n",
       "      <th>BLOCK_ABBR</th>\n",
       "      <th>OPERATOR</th>\n",
       "      <th>TRIP_ID</th>\n",
       "      <th>OVERLOAD_ID</th>\n",
       "      <th>ROUTE_DIRECTION_NAME</th>\n",
       "      <th>...</th>\n",
       "      <th>ADJUSTED_EARLY_COUNT</th>\n",
       "      <th>ADJUSTED_LATE_COUNT</th>\n",
       "      <th>ADJUSTED_ONTIME_COUNT</th>\n",
       "      <th>STOP_CANCELLED</th>\n",
       "      <th>PREV_SCHED_STOP_CANCELLED</th>\n",
       "      <th>IS_RELIEF</th>\n",
       "      <th>DWELL_IN_MINS</th>\n",
       "      <th>SCHEDULED_LAYOVER_MINUTES</th>\n",
       "      <th>on_time_performance</th>\n",
       "      <th>on-time performance</th>\n",
       "    </tr>\n",
       "  </thead>\n",
       "  <tbody>\n",
       "    <tr>\n",
       "      <th>30756</th>\n",
       "      <td>120230806</td>\n",
       "      <td>3</td>\n",
       "      <td>99602697</td>\n",
       "      <td>2023-08-06</td>\n",
       "      <td>3</td>\n",
       "      <td>300</td>\n",
       "      <td>2500</td>\n",
       "      <td>350951</td>\n",
       "      <td>0</td>\n",
       "      <td>TO DOWNTOWN</td>\n",
       "      <td>...</td>\n",
       "      <td>0</td>\n",
       "      <td>0</td>\n",
       "      <td>1</td>\n",
       "      <td>1</td>\n",
       "      <td>NaN</td>\n",
       "      <td>0</td>\n",
       "      <td>0.0</td>\n",
       "      <td>NaN</td>\n",
       "      <td>late</td>\n",
       "      <td>100.0</td>\n",
       "    </tr>\n",
       "  </tbody>\n",
       "</table>\n",
       "<p>1 rows × 32 columns</p>\n",
       "</div>"
      ],
      "text/plain": [
       "       CALENDAR_ID  SERVICE_ABBR  ADHERENCE_ID        DATE  ROUTE_ABBR  \\\n",
       "30756    120230806             3      99602697  2023-08-06           3   \n",
       "\n",
       "       BLOCK_ABBR  OPERATOR  TRIP_ID  OVERLOAD_ID ROUTE_DIRECTION_NAME  ...  \\\n",
       "30756         300      2500   350951            0          TO DOWNTOWN  ...   \n",
       "\n",
       "      ADJUSTED_EARLY_COUNT  ADJUSTED_LATE_COUNT  ADJUSTED_ONTIME_COUNT  \\\n",
       "30756                    0                    0                      1   \n",
       "\n",
       "       STOP_CANCELLED  PREV_SCHED_STOP_CANCELLED IS_RELIEF DWELL_IN_MINS  \\\n",
       "30756               1                        NaN         0           0.0   \n",
       "\n",
       "      SCHEDULED_LAYOVER_MINUTES  on_time_performance  on-time performance  \n",
       "30756                       NaN                 late                100.0  \n",
       "\n",
       "[1 rows x 32 columns]"
      ]
     },
     "execution_count": 35,
     "metadata": {},
     "output_type": "execute_result"
    }
   ],
   "source": [
    "late_df.head(1)"
   ]
  },
  {
   "cell_type": "code",
   "execution_count": 36,
   "id": "97a24a19-b372-4df0-b6c0-2dfda865e4fa",
   "metadata": {},
   "outputs": [
    {
     "data": {
      "text/plain": [
       "on_time_performance\n",
       "late    33032\n",
       "Name: count, dtype: int64"
      ]
     },
     "execution_count": 36,
     "metadata": {},
     "output_type": "execute_result"
    }
   ],
   "source": [
    "late_df['on_time_performance'].value_counts()"
   ]
  },
  {
   "cell_type": "code",
   "execution_count": 37,
   "id": "d4ff2bac-a184-414f-8acd-22e987057837",
   "metadata": {},
   "outputs": [
    {
     "data": {
      "text/html": [
       "<div>\n",
       "<style scoped>\n",
       "    .dataframe tbody tr th:only-of-type {\n",
       "        vertical-align: middle;\n",
       "    }\n",
       "\n",
       "    .dataframe tbody tr th {\n",
       "        vertical-align: top;\n",
       "    }\n",
       "\n",
       "    .dataframe thead th {\n",
       "        text-align: right;\n",
       "    }\n",
       "</style>\n",
       "<table border=\"1\" class=\"dataframe\">\n",
       "  <thead>\n",
       "    <tr style=\"text-align: right;\">\n",
       "      <th></th>\n",
       "      <th>ROUTE_ABBR</th>\n",
       "      <th>count</th>\n",
       "    </tr>\n",
       "  </thead>\n",
       "  <tbody>\n",
       "    <tr>\n",
       "      <th>0</th>\n",
       "      <td>56</td>\n",
       "      <td>5920</td>\n",
       "    </tr>\n",
       "    <tr>\n",
       "      <th>1</th>\n",
       "      <td>23</td>\n",
       "      <td>5621</td>\n",
       "    </tr>\n",
       "    <tr>\n",
       "      <th>2</th>\n",
       "      <td>22</td>\n",
       "      <td>5075</td>\n",
       "    </tr>\n",
       "    <tr>\n",
       "      <th>3</th>\n",
       "      <td>50</td>\n",
       "      <td>4106</td>\n",
       "    </tr>\n",
       "    <tr>\n",
       "      <th>4</th>\n",
       "      <td>55</td>\n",
       "      <td>3794</td>\n",
       "    </tr>\n",
       "    <tr>\n",
       "      <th>5</th>\n",
       "      <td>52</td>\n",
       "      <td>3549</td>\n",
       "    </tr>\n",
       "    <tr>\n",
       "      <th>6</th>\n",
       "      <td>3</td>\n",
       "      <td>3185</td>\n",
       "    </tr>\n",
       "    <tr>\n",
       "      <th>7</th>\n",
       "      <td>7</td>\n",
       "      <td>1782</td>\n",
       "    </tr>\n",
       "  </tbody>\n",
       "</table>\n",
       "</div>"
      ],
      "text/plain": [
       "   ROUTE_ABBR  count\n",
       "0          56   5920\n",
       "1          23   5621\n",
       "2          22   5075\n",
       "3          50   4106\n",
       "4          55   3794\n",
       "5          52   3549\n",
       "6           3   3185\n",
       "7           7   1782"
      ]
     },
     "execution_count": 37,
     "metadata": {},
     "output_type": "execute_result"
    }
   ],
   "source": [
    "late_df['ROUTE_ABBR'].value_counts().reset_index()"
   ]
  },
  {
   "cell_type": "markdown",
   "id": "63598191-087f-4d58-9d20-7d269cf4780e",
   "metadata": {},
   "source": [
    "In the data, the bus route can be identified by its ROUTE_ABBR value.\n",
    "3: West End\n",
    "7: Hillsboro\n",
    "22: Bordeaux\n",
    "23: Dickerson Pike\n",
    "50: Charlotte Pike\n",
    "52: Nolensville Pike\n",
    "55: Murfreesboro Pike\n",
    "56: Gallatin Pike"
   ]
  },
  {
   "cell_type": "code",
   "execution_count": 38,
   "id": "a2f1de26-b718-4d59-8e6e-322e7018acdf",
   "metadata": {},
   "outputs": [
    {
     "data": {
      "image/png": "[encoded data removed]",
      "text/plain": [
       "<Figure size 640x480 with 1 Axes>"
      ]
     },
     "metadata": {},
     "output_type": "display_data"
    }
   ],
   "source": [
    "\n",
    "fig, ax = plt.subplots()\n",
    "ax.pie(Route_counts['count'], labels=Route_counts['ROUTE_ABBR'], autopct='%1.1f%%')\n",
    "plt.savefig('wego_pie_plot_2.png');"
   ]
  },
  {
   "cell_type": "code",
   "execution_count": 39,
   "id": "ffa608ad-b6c8-457a-8268-a04a6a0295d3",
   "metadata": {},
   "outputs": [
    {
     "data": {
      "image/png": "[encoded data removed]",
      "text/plain": [
       "<Figure size 1000x600 with 1 Axes>"
      ]
     },
     "metadata": {},
     "output_type": "display_data"
    }
   ],
   "source": [
    "\n",
    "ONTIME_performance = wego.groupby('ROUTE_ABBR')['on-time performance'].mean().sort_values()\n",
    "\n",
    "plt.figure(figsize=(10, 6))\n",
    "sns.barplot(x=ONTIME_performance.index, y=ONTIME_performance.values, palette='viridis')\n",
    "plt.title('Average On-Time Performance by Direction of Travel')\n",
    "plt.xlabel('ROUTE_ABBR')\n",
    "plt.ylabel('on-time performance (%)')\n",
    "plt.ylim(0, 100)\n",
    "plt.show()\n"
   ]
  },
  {
   "cell_type": "markdown",
   "id": "2efa1c55-8108-45ab-b3f1-55dc450b78ba",
   "metadata": {},
   "source": [
    "wego_1 =wego.loc[wego['ROUTE_ABBR'].isin([' West End','Hillsboro','Bordeaux','Dickerson Pike','Charlotte Pike','Nolensville Pike',' Murfreesboro Pike','Gallatin Pike'])]\n",
    "wego_1 = wego.value_counts(['ROUTE_ABBR'].reset_index())\n",
    "\n",
    "                            \n",
    "                           \n",
    "\n",
    "\n"
   ]
  },
  {
   "cell_type": "code",
   "execution_count": 40,
   "id": "03a16e79-ac2f-4bf3-9f05-141b3fc0c14a",
   "metadata": {},
   "outputs": [
    {
     "data": {
      "image/png": "[encoded data removed]",
      "text/plain": [
       "<Figure size 1000x600 with 1 Axes>"
      ]
     },
     "metadata": {},
     "output_type": "display_data"
    }
   ],
   "source": [
    "ROUTE_performance = wego.groupby('ROUTE_DIRECTION_NAME')['on-time performance'].mean().sort_values()\n",
    "\n",
    "plt.figure(figsize=(10, 6))\n",
    "sns.barplot(x= ROUTE_performance.index, y= ROUTE_performance.values, palette='mako')\n",
    "plt.title('Average On-Time Performance by Route')\n",
    "plt.xlabel('ROUTE_DIRECTION_NAME')\n",
    "plt.ylabel('on-time performance (%)')\n",
    "plt.ylim(0, 100)\n",
    "plt.show()"
   ]
  },
  {
   "cell_type": "code",
   "execution_count": 41,
   "id": "bd98f4a9-3e12-4aa3-9988-2ce8a41b2780",
   "metadata": {},
   "outputs": [],
   "source": [
    "wego['Route_category'] = pd.qcut(x =wego.ROUTE_ABBR, q = 3, labels =['Low' ,'Medium', 'High']) "
   ]
  },
  {
   "cell_type": "code",
   "execution_count": 42,
   "id": "6e5e8c26-be71-449f-91ee-b1e3c17ea0ee",
   "metadata": {},
   "outputs": [
    {
     "data": {
      "text/html": [
       "<div>\n",
       "<style scoped>\n",
       "    .dataframe tbody tr th:only-of-type {\n",
       "        vertical-align: middle;\n",
       "    }\n",
       "\n",
       "    .dataframe tbody tr th {\n",
       "        vertical-align: top;\n",
       "    }\n",
       "\n",
       "    .dataframe thead th {\n",
       "        text-align: right;\n",
       "    }\n",
       "</style>\n",
       "<table border=\"1\" class=\"dataframe\">\n",
       "  <thead>\n",
       "    <tr style=\"text-align: right;\">\n",
       "      <th></th>\n",
       "      <th>CALENDAR_ID</th>\n",
       "      <th>SERVICE_ABBR</th>\n",
       "      <th>ADHERENCE_ID</th>\n",
       "      <th>DATE</th>\n",
       "      <th>ROUTE_ABBR</th>\n",
       "      <th>BLOCK_ABBR</th>\n",
       "      <th>OPERATOR</th>\n",
       "      <th>TRIP_ID</th>\n",
       "      <th>OVERLOAD_ID</th>\n",
       "      <th>ROUTE_DIRECTION_NAME</th>\n",
       "      <th>...</th>\n",
       "      <th>ADJUSTED_LATE_COUNT</th>\n",
       "      <th>ADJUSTED_ONTIME_COUNT</th>\n",
       "      <th>STOP_CANCELLED</th>\n",
       "      <th>PREV_SCHED_STOP_CANCELLED</th>\n",
       "      <th>IS_RELIEF</th>\n",
       "      <th>DWELL_IN_MINS</th>\n",
       "      <th>SCHEDULED_LAYOVER_MINUTES</th>\n",
       "      <th>on_time_performance</th>\n",
       "      <th>on-time performance</th>\n",
       "      <th>Route_category</th>\n",
       "    </tr>\n",
       "  </thead>\n",
       "  <tbody>\n",
       "    <tr>\n",
       "      <th>0</th>\n",
       "      <td>120230801</td>\n",
       "      <td>1</td>\n",
       "      <td>99457890</td>\n",
       "      <td>2023-08-01</td>\n",
       "      <td>22</td>\n",
       "      <td>2200</td>\n",
       "      <td>1040</td>\n",
       "      <td>345104</td>\n",
       "      <td>0</td>\n",
       "      <td>TO DOWNTOWN</td>\n",
       "      <td>...</td>\n",
       "      <td>0</td>\n",
       "      <td>1</td>\n",
       "      <td>0</td>\n",
       "      <td>0.0</td>\n",
       "      <td>0</td>\n",
       "      <td>6.5</td>\n",
       "      <td>NaN</td>\n",
       "      <td>on_time</td>\n",
       "      <td>100.0</td>\n",
       "      <td>Low</td>\n",
       "    </tr>\n",
       "  </tbody>\n",
       "</table>\n",
       "<p>1 rows × 33 columns</p>\n",
       "</div>"
      ],
      "text/plain": [
       "   CALENDAR_ID  SERVICE_ABBR  ADHERENCE_ID        DATE  ROUTE_ABBR  \\\n",
       "0    120230801             1      99457890  2023-08-01          22   \n",
       "\n",
       "   BLOCK_ABBR  OPERATOR  TRIP_ID  OVERLOAD_ID ROUTE_DIRECTION_NAME  ...  \\\n",
       "0        2200      1040   345104            0          TO DOWNTOWN  ...   \n",
       "\n",
       "  ADJUSTED_LATE_COUNT  ADJUSTED_ONTIME_COUNT  STOP_CANCELLED  \\\n",
       "0                   0                      1               0   \n",
       "\n",
       "   PREV_SCHED_STOP_CANCELLED  IS_RELIEF DWELL_IN_MINS  \\\n",
       "0                        0.0          0           6.5   \n",
       "\n",
       "  SCHEDULED_LAYOVER_MINUTES on_time_performance  on-time performance  \\\n",
       "0                       NaN             on_time                100.0   \n",
       "\n",
       "   Route_category  \n",
       "0             Low  \n",
       "\n",
       "[1 rows x 33 columns]"
      ]
     },
     "execution_count": 42,
     "metadata": {},
     "output_type": "execute_result"
    }
   ],
   "source": [
    "wego.head(1)"
   ]
  },
  {
   "cell_type": "code",
   "execution_count": 43,
   "id": "a0109c3c-8793-47f5-ab11-8700b6f96eb0",
   "metadata": {},
   "outputs": [],
   "source": [
    "routes_df = wego['Route_category'].value_counts().reset_index()"
   ]
  },
  {
   "cell_type": "code",
   "execution_count": 44,
   "id": "136003ba-bf5c-4956-a052-c8ddf9179c8a",
   "metadata": {},
   "outputs": [
    {
     "data": {
      "text/html": [
       "<div>\n",
       "<style scoped>\n",
       "    .dataframe tbody tr th:only-of-type {\n",
       "        vertical-align: middle;\n",
       "    }\n",
       "\n",
       "    .dataframe tbody tr th {\n",
       "        vertical-align: top;\n",
       "    }\n",
       "\n",
       "    .dataframe thead th {\n",
       "        text-align: right;\n",
       "    }\n",
       "</style>\n",
       "<table border=\"1\" class=\"dataframe\">\n",
       "  <thead>\n",
       "    <tr style=\"text-align: right;\">\n",
       "      <th></th>\n",
       "      <th>Route_category</th>\n",
       "      <th>count</th>\n",
       "    </tr>\n",
       "  </thead>\n",
       "  <tbody>\n",
       "    <tr>\n",
       "      <th>0</th>\n",
       "      <td>Medium</td>\n",
       "      <td>157054</td>\n",
       "    </tr>\n",
       "    <tr>\n",
       "      <th>1</th>\n",
       "      <td>Low</td>\n",
       "      <td>133255</td>\n",
       "    </tr>\n",
       "    <tr>\n",
       "      <th>2</th>\n",
       "      <td>High</td>\n",
       "      <td>60020</td>\n",
       "    </tr>\n",
       "  </tbody>\n",
       "</table>\n",
       "</div>"
      ],
      "text/plain": [
       "  Route_category   count\n",
       "0         Medium  157054\n",
       "1            Low  133255\n",
       "2           High   60020"
      ]
     },
     "execution_count": 44,
     "metadata": {},
     "output_type": "execute_result"
    }
   ],
   "source": [
    "routes_df "
   ]
  },
  {
   "cell_type": "code",
   "execution_count": 45,
   "id": "ab4f4783-9baf-432b-b801-0798ec584257",
   "metadata": {},
   "outputs": [
    {
     "data": {
      "image/png": "[encoded data removed]",
      "text/plain": [
       "<Figure size 640x480 with 1 Axes>"
      ]
     },
     "metadata": {},
     "output_type": "display_data"
    }
   ],
   "source": [
    "\n",
    "fig, ax = plt.subplots()\n",
    "ax.pie(routes_df['count'], labels=routes_df['Route_category'], autopct='%1.1f%%')\n",
    "plt.savefig('wego_pie_plot_3.png');"
   ]
  },
  {
   "cell_type": "markdown",
   "id": "54537031-8ba7-4701-b952-1afcdc489e39",
   "metadata": {},
   "source": [
    "5.Is there any relationship between lateness (ADHERENCE) and headway deviation? The headway deviation variable is contained in the HDWY_DEV column. See the notes under number 9 for a description of headway and headway deviation."
   ]
  },
  {
   "cell_type": "code",
   "execution_count": 46,
   "id": "87824527-a1c0-4113-8a46-bc4221e16274",
   "metadata": {},
   "outputs": [
    {
     "data": {
      "image/png": "[encoded data removed]",
      "text/plain": [
       "<Figure size 1000x600 with 1 Axes>"
      ]
     },
     "metadata": {},
     "output_type": "display_data"
    }
   ],
   "source": [
    "\n",
    "wego = wego[['ADHERENCE', 'HDWY_DEV']].dropna()\n",
    "\n",
    "\n",
    "plt.figure(figsize=(10, 6))\n",
    "sns.scatterplot(x='HDWY_DEV', y='ADHERENCE', data= wego,color='g')\n",
    "plt.title('Relationship between Headway Deviation and Lateness')\n",
    "plt.xlabel('HDWY_DEV')\n",
    "plt.ylabel('ADHERENCE')\n",
    "plt.show()\n",
    "\n",
    "\n"
   ]
  },
  {
   "cell_type": "code",
   "execution_count": 47,
   "id": "89c8d437-cefa-41fc-9f86-7e25501fa391",
   "metadata": {},
   "outputs": [
    {
     "data": {
      "text/plain": [
       "-0.20679390015312585"
      ]
     },
     "execution_count": 47,
     "metadata": {},
     "output_type": "execute_result"
    }
   ],
   "source": [
    "\n",
    "correlation = wego['HDWY_DEV'].corr(wego['ADHERENCE'])\n",
    "correlation"
   ]
  },
  {
   "cell_type": "markdown",
   "id": "f450e11d-42b1-41bf-88f9-481ebeea34d6",
   "metadata": {},
   "source": [
    "sns.scatterplot(data = on_time_distribution ,x = 'on_time_performance', y='count',color = 'green', marker ='s')\n",
    "plt.title('On time performance by count')\n",
    "plt.ylabel('count')\n",
    "plt.savefig('wego_scatter_plot.png');"
   ]
  },
  {
   "cell_type": "markdown",
   "id": "dfb99c73-b03e-4c3d-88c1-b1103564f0e8",
   "metadata": {},
   "source": [
    "In the data, the bus route can be identified by its ROUTE_ABBR value. 3: West End 7: Hillsboro 22: Bordeaux 23: Dickerson Pike 50: Charlotte Pike 52: Nolensville Pike 55: Murfreesboro Pike 56: Gallatin Pike"
   ]
  }
 ],
 "metadata": {
  "kernelspec": {
   "display_name": "Python 3 (ipykernel)",
   "language": "python",
   "name": "python3"
  },
  "language_info": {
   "codemirror_mode": {
    "name": "ipython",
    "version": 3
   },
   "file_extension": ".py",
   "mimetype": "text/x-python",
   "name": "python",
   "nbconvert_exporter": "python",
   "pygments_lexer": "ipython3",
   "version": "3.11.7"
  }
 },
 "nbformat": 4,
 "nbformat_minor": 5
}
